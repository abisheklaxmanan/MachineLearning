{
  "nbformat": 4,
  "nbformat_minor": 0,
  "metadata": {
    "colab": {
      "name": "ML-W7-Classifier.ipynb",
      "provenance": [],
      "collapsed_sections": [],
      "toc_visible": true
    },
    "kernelspec": {
      "name": "python3",
      "display_name": "Python 3"
    }
  },
  "cells": [
    {
      "cell_type": "markdown",
      "metadata": {
        "id": "dF1m8o72jSKt"
      },
      "source": [
        "## Imports"
      ]
    },
    {
      "cell_type": "code",
      "metadata": {
        "id": "gfubFQU_Mee-",
        "colab": {
          "base_uri": "https://localhost:8080/",
          "height": 54
        },
        "outputId": "7eb07f92-8791-4f1a-8726-2732e3f11531"
      },
      "source": [
        "import numpy as np\n",
        "import pandas as pd\n",
        "import os\n",
        "import random as rd\n",
        "from sklearn.model_selection import KFold\n",
        "from sklearn.model_selection import cross_val_predict\n",
        "from sklearn import preprocessing\n",
        "from sklearn import metrics\n",
        "from sklearn.model_selection import train_test_split\n",
        "from sklearn.ensemble import RandomForestClassifier\n",
        "import matplotlib.pyplot as plt\n",
        "import seaborn as sns\n",
        "from itertools import cycle\n",
        "\n",
        "#from analysis_utils.ClassifierPlots import create_reliability_diagram, create_roc_curve, create_feature_importance_plot\n",
        "#from analysis_utils.Analysis import print_accuracy_and_classification_report, predict_classes, get_somatic_error_type"
      ],
      "execution_count": null,
      "outputs": [
        {
          "output_type": "stream",
          "text": [
            "/usr/local/lib/python3.6/dist-packages/statsmodels/tools/_testing.py:19: FutureWarning: pandas.util.testing is deprecated. Use the functions in the public API at pandas.testing instead.\n",
            "  import pandas.util.testing as tm\n"
          ],
          "name": "stderr"
        }
      ]
    },
    {
      "cell_type": "code",
      "metadata": {
        "id": "24esazYfJlkf"
      },
      "source": [
        "from scipy.stats import pearsonr\n",
        "import matplotlib.ticker as ticker\n",
        "from itertools import cycle\n",
        "\n",
        "sns.set_style('white')\n",
        "\n",
        "\n",
        "def _calculate_hist(probabilities,\n",
        "                    bins=[0, .1, .2, .3, .4, .5, .6, .7, .8, .9, 1]):\n",
        "    '''Calculates the counts and mean of each bin for a histogram using \\\n",
        "    defined bin intervals.\n",
        "\n",
        "    Parameters:\n",
        "        probabilities (numpy.array): Array of probabilites\n",
        "        bins (list): Defined bins to calculate. Default [0,.1,.2,.3,.4,\n",
        "                     .5,.6,.7,.8,.9,1]\n",
        "    Returns:\n",
        "        (counts, means): Lists of the counts and means of each bin\n",
        "    '''\n",
        "    counts = list()\n",
        "    means = list()\n",
        "    for i in range(0, len(bins) - 1):\n",
        "        count = len(probabilities[(probabilities > bins[i])\n",
        "                                  & (probabilities <= bins[i + 1])])\n",
        "        if count == 0:\n",
        "            counts.append(0)\n",
        "            bin_mean = np.mean([bins[i], bins[i+1]])\n",
        "            means.append(bin_mean)\n",
        "        else:\n",
        "            counts.append(count)\n",
        "            means.append(np.mean(probabilities[(probabilities > bins[i]) &\n",
        "                                               (probabilities <= bins[i + 1])])\n",
        "                         )\n",
        "    return np.array(counts), np.array(means)\n",
        "\n",
        "def create_roc_curve(Y, probabilities, class_lookup, title, ax):\n",
        "    '''Create ROC curve to compare multiclass model performance.\n",
        "\n",
        "    Parameters:\n",
        "        Y (numpy.array): Truth labels\n",
        "        probabilities (numpy.array): Output of model for each class\n",
        "        class_lookup (dict): lookup hash of truth labels\n",
        "        title (str): Plot title\n",
        "    '''\n",
        "    n_classes = Y.shape[1]\n",
        "    fpr = dict()\n",
        "    tpr = dict()\n",
        "    roc_auc = dict()\n",
        "    ax.set_title(title)\n",
        "    if n_classes == 3:\n",
        "        colors = cycle(['orange', 'red', 'black'])\n",
        "    else:\n",
        "        colors = cycle(['orange', 'red', 'aqua', 'black'])\n",
        "    for i, color in zip(range(n_classes), colors):\n",
        "        fpr[i], tpr[i], _ = metrics.roc_curve(Y[:, i], probabilities[:, i])\n",
        "        roc_auc[i] = metrics.auc(fpr[i], tpr[i])\n",
        "        ax.plot(fpr[i], tpr[i], color=color,\n",
        "                label='ROC curve of class {0} (area = {1:0.2f})'.format(\n",
        "                    class_lookup[i], roc_auc[i]))\n",
        "    ax.plot([0, 1], [0, 1], 'k--')\n",
        "    ax.set_xlim([0, 1.0])\n",
        "    ax.set_ylim([0.0, 1.0])\n",
        "    ax.set_xlabel('False Positive Rate')\n",
        "    ax.set_ylabel('True Positive Rate')\n",
        "    ax.legend(loc=\"lower right\")\n",
        "    # plt.show()\n",
        "\n",
        "\n",
        "def create_feature_importance_plot(feature_importance_metrics, title):\n",
        "    '''Create bar plot illustrating importance of each feature.\n",
        "\n",
        "    Parameters:\n",
        "        feature_importance_metrics (pandas.DataFrame): DataFrame with features\n",
        "                                                       on index and a column\n",
        "                                                       named delta_auc\n",
        "                                                       containing the change\n",
        "                                                       in roc auc values\n",
        "        title (str): Title of plot\n",
        "    '''\n",
        "    feature_importance_metrics.replace(\n",
        "        {'feature': {'var': 'variant', 'ref': 'reference',\n",
        "                     'avg': 'average',\n",
        "                     '_se_': '_single_end_',\n",
        "                     '3p': '3_prime', '_': ' '}},\n",
        "        regex=True, inplace=True)\n",
        "    sns.barplot(y='feature', x='delta_auc',\n",
        "                data=feature_importance_metrics.head(30),\n",
        "                color='cornflowerblue')\n",
        "    plt.xlabel('Delta average AUC')\n",
        "    plt.ylabel('Feature')\n",
        "    plt.title(title)\n",
        "\n",
        "\n",
        "def make_model_output_plot(probabilities, title):\n",
        "    \"\"\"Make plot that show the distribution of model output\n",
        "\n",
        "        Parameters:\n",
        "            probabilities (numpy.array): array of model output with samples\n",
        "                                         on row and classes in columns\n",
        "            title (str): Plot title\n",
        "    \"\"\"\n",
        "    ax = sns.distplot(probabilities[:, 0:1])\n",
        "    sns.distplot(probabilities[:, 1:2], ax=ax)\n",
        "    sns.distplot(probabilities[:, 2:3], ax=ax)\n",
        "    ax.legend(['Ambiguous', 'Fail', 'Somatic'])\n",
        "    ax.set_xlabel('Model output')\n",
        "    ax.set_ylabel('Density')\n",
        "    ax.set_title(title)\n"
      ],
      "execution_count": null,
      "outputs": []
    },
    {
      "cell_type": "code",
      "metadata": {
        "id": "dIcnb1H9Jr9N"
      },
      "source": [
        "import numpy as np\n",
        "import pandas as pd\n",
        "from sklearn import metrics\n",
        "from sklearn import preprocessing\n",
        "\n",
        "def get_roc_auc(probabilities, Y):\n",
        "    # for binary classifier add labels for fail category\n",
        "    if len(Y.shape) == 1:\n",
        "        Y = np.array([np.logical_not(Y), Y]).T\n",
        "    n_classes = Y.shape[1]\n",
        "    fpr = [0] * n_classes\n",
        "    tpr = [0] * n_classes\n",
        "    roc_auc = [0] * n_classes\n",
        "    for i in range(n_classes):\n",
        "        fpr[i], tpr[i], _ = metrics.roc_curve(Y[:, i], probabilities[:, i])\n",
        "        roc_auc[i] = metrics.auc(fpr[i], tpr[i])\n",
        "    return np.mean(roc_auc)\n",
        "\n",
        "\n",
        "def print_accuracy_and_classification_report(labels, prediction):\n",
        "    \"\"\"Print model accuracy and classification report.\n",
        "\n",
        "    Args:\n",
        "        labels (numpy.array): Truth lables\n",
        "        prediction (numpy.array): Model predictions\n",
        "    \"\"\"\n",
        "    print('Cross validation accuracy:')\n",
        "    print('\\t', metrics.accuracy_score(labels, prediction))\n",
        "    print('\\nCross validation classification report\\n')\n",
        "    print(metrics.classification_report(labels, prediction))\n",
        "\n",
        "\n",
        "def predict_classes(probabilities):\n",
        "    \"\"\"Predict class labels from probabilities\n",
        "\n",
        "    Args:\n",
        "        probabilities (numpy.array): model output for each class\n",
        "    Returns:\n",
        "        (numpy.array): Model predicted class labels\n",
        "    \"\"\"\n",
        "    predicted = np.array(\n",
        "        [list(a).index(max(list(a))) for a in list(probabilities)])\n",
        "    label_binarizer = preprocessing.LabelBinarizer()\n",
        "\n",
        "    label_binarizer.fit(range(max(predicted) + 1))\n",
        "    return label_binarizer.transform(predicted)\n"
      ],
      "execution_count": null,
      "outputs": []
    },
    {
      "cell_type": "markdown",
      "metadata": {
        "id": "IGrpOVl_jV4S"
      },
      "source": [
        "## Read the data"
      ]
    },
    {
      "cell_type": "code",
      "metadata": {
        "id": "bOtVf5wEYNG0"
      },
      "source": [
        "df=pd.read_excel('Data.xlsx')"
      ],
      "execution_count": null,
      "outputs": []
    },
    {
      "cell_type": "code",
      "metadata": {
        "id": "n6n2IFmxEqV7",
        "colab": {
          "base_uri": "https://localhost:8080/",
          "height": 308
        },
        "outputId": "ae82010a-f9d3-495c-94f7-c5f039cef975"
      },
      "source": [
        "df.head()"
      ],
      "execution_count": null,
      "outputs": [
        {
          "output_type": "execute_result",
          "data": {
            "text/html": [
              "<div>\n",
              "<style scoped>\n",
              "    .dataframe tbody tr th:only-of-type {\n",
              "        vertical-align: middle;\n",
              "    }\n",
              "\n",
              "    .dataframe tbody tr th {\n",
              "        vertical-align: top;\n",
              "    }\n",
              "\n",
              "    .dataframe thead th {\n",
              "        text-align: right;\n",
              "    }\n",
              "</style>\n",
              "<table border=\"1\" class=\"dataframe\">\n",
              "  <thead>\n",
              "    <tr style=\"text-align: right;\">\n",
              "      <th></th>\n",
              "      <th>Column1</th>\n",
              "      <th>3-Breast-Her2-ampl</th>\n",
              "      <th>8-Breast-WT</th>\n",
              "      <th>10-Breast-Her2-ampl</th>\n",
              "      <th>Breast-100</th>\n",
              "      <th>15-Breast-Her2-ampl</th>\n",
              "      <th>16-Breast-WT</th>\n",
              "      <th>21-Breast-WT</th>\n",
              "      <th>33-Breast-Her2-ampl</th>\n",
              "      <th>42-Breast-Her2-ampl</th>\n",
              "      <th>Breast-454</th>\n",
              "      <th>48-Breast-WT</th>\n",
              "      <th>50-Breast-WT</th>\n",
              "      <th>55-Breast-WT</th>\n",
              "      <th>Type-Unknown-6</th>\n",
              "      <th>Breast-564</th>\n",
              "      <th>59-Breast-WT</th>\n",
              "      <th>Breast-590</th>\n",
              "      <th>Breast-60</th>\n",
              "      <th>Breast-603</th>\n",
              "      <th>ALK61-Breast-Her2-unknown</th>\n",
              "      <th>Breast-85</th>\n",
              "      <th>Breast-86</th>\n",
              "      <th>97-Breast-Her2-ampl</th>\n",
              "      <th>Breast-ALK-82</th>\n",
              "      <th>292-Liver-KRAS</th>\n",
              "      <th>316-Liver-KRAS</th>\n",
              "      <th>341-Liver-WT</th>\n",
              "      <th>376-Liver-WT</th>\n",
              "      <th>379-Liver-WT</th>\n",
              "      <th>Chol-410</th>\n",
              "      <th>Chol-442</th>\n",
              "      <th>Chol-460</th>\n",
              "      <th>Chol-611</th>\n",
              "      <th>Chol-ALK-28</th>\n",
              "      <th>VU256-CRC</th>\n",
              "      <th>VU258-CRC</th>\n",
              "      <th>VU272-CRC</th>\n",
              "      <th>VU276-CRC</th>\n",
              "      <th>Type-Unknown-1</th>\n",
              "      <th>...</th>\n",
              "      <th>MGH-BrCa-H-11</th>\n",
              "      <th>MGH-BrCa-H-59</th>\n",
              "      <th>MGH-BrCa-H-66</th>\n",
              "      <th>MGH-BrCa-H-68</th>\n",
              "      <th>MGH-BrCa-H-74</th>\n",
              "      <th>MGH-BrCa-H-75</th>\n",
              "      <th>MGH-CRC-368</th>\n",
              "      <th>Vumc-NSCLC-49</th>\n",
              "      <th>Vumc-NSCLC-57</th>\n",
              "      <th>Vumc-NSCLC-59</th>\n",
              "      <th>MGH-BrCa-H31-TR-489</th>\n",
              "      <th>MGH-BrCa-H38-TR467</th>\n",
              "      <th>MGH-BrCa-H63-TR-491</th>\n",
              "      <th>MGH-BrCa-H76-TR469</th>\n",
              "      <th>MGH-BrCa-H81-TR492</th>\n",
              "      <th>MGH-BrCa-H83-TR550</th>\n",
              "      <th>MGH-BrCa-H84-TR551</th>\n",
              "      <th>MGH-BrCa-H89-TR471</th>\n",
              "      <th>MGH-BrCa-H92-TR472</th>\n",
              "      <th>MGH-CRC-412-TR466</th>\n",
              "      <th>MGH-CRC-BRAF4-TR547</th>\n",
              "      <th>MGH-CRC-BRAF5-TR548</th>\n",
              "      <th>MGH-CRC-BRAF6-TR465</th>\n",
              "      <th>MGH-NSCLC-L01-TR458</th>\n",
              "      <th>MGH-NSCLC-L03-TR488</th>\n",
              "      <th>MGH-NSCLC-L07-TR459</th>\n",
              "      <th>MGH-NSCLC-L11-TR477</th>\n",
              "      <th>MGH-NSCLC-L12-TR478</th>\n",
              "      <th>MGH-NSCLC-L18-TR479</th>\n",
              "      <th>MGH-NSCLC-L19-TR461</th>\n",
              "      <th>MGH-NSCLC-L20-TR500</th>\n",
              "      <th>MGH-NSCLC-L22-TR462</th>\n",
              "      <th>MGH-NSCLC-L23-TR524</th>\n",
              "      <th>MGH-NSCLC-L25-TR480</th>\n",
              "      <th>MGH-NSCLC-L39-TR519</th>\n",
              "      <th>MGH-NSCLC-L40-TR520</th>\n",
              "      <th>MGH-NSCLC-L51-TR521</th>\n",
              "      <th>MGH-NSCLC-L58-TR525</th>\n",
              "      <th>MGH-NSCLC-L59-TR522</th>\n",
              "      <th>MGH-NSCLC-L65-TR523</th>\n",
              "    </tr>\n",
              "  </thead>\n",
              "  <tbody>\n",
              "    <tr>\n",
              "      <th>0</th>\n",
              "      <td>ENSG00000000003</td>\n",
              "      <td>0</td>\n",
              "      <td>0</td>\n",
              "      <td>0</td>\n",
              "      <td>0</td>\n",
              "      <td>17</td>\n",
              "      <td>0</td>\n",
              "      <td>0</td>\n",
              "      <td>0</td>\n",
              "      <td>0</td>\n",
              "      <td>0</td>\n",
              "      <td>0</td>\n",
              "      <td>0</td>\n",
              "      <td>0</td>\n",
              "      <td>1</td>\n",
              "      <td>2</td>\n",
              "      <td>0</td>\n",
              "      <td>0</td>\n",
              "      <td>0</td>\n",
              "      <td>0</td>\n",
              "      <td>23</td>\n",
              "      <td>0</td>\n",
              "      <td>1</td>\n",
              "      <td>1</td>\n",
              "      <td>0</td>\n",
              "      <td>22</td>\n",
              "      <td>0</td>\n",
              "      <td>8</td>\n",
              "      <td>0</td>\n",
              "      <td>0</td>\n",
              "      <td>0</td>\n",
              "      <td>5</td>\n",
              "      <td>0</td>\n",
              "      <td>5</td>\n",
              "      <td>0</td>\n",
              "      <td>0</td>\n",
              "      <td>0</td>\n",
              "      <td>0</td>\n",
              "      <td>241</td>\n",
              "      <td>0</td>\n",
              "      <td>...</td>\n",
              "      <td>2</td>\n",
              "      <td>0</td>\n",
              "      <td>7</td>\n",
              "      <td>0</td>\n",
              "      <td>1</td>\n",
              "      <td>3</td>\n",
              "      <td>0</td>\n",
              "      <td>0</td>\n",
              "      <td>9</td>\n",
              "      <td>0</td>\n",
              "      <td>3</td>\n",
              "      <td>0</td>\n",
              "      <td>0</td>\n",
              "      <td>0</td>\n",
              "      <td>0</td>\n",
              "      <td>0</td>\n",
              "      <td>0</td>\n",
              "      <td>0</td>\n",
              "      <td>0</td>\n",
              "      <td>0</td>\n",
              "      <td>0</td>\n",
              "      <td>0</td>\n",
              "      <td>0</td>\n",
              "      <td>0</td>\n",
              "      <td>0</td>\n",
              "      <td>0</td>\n",
              "      <td>0</td>\n",
              "      <td>0</td>\n",
              "      <td>0</td>\n",
              "      <td>0</td>\n",
              "      <td>0</td>\n",
              "      <td>5</td>\n",
              "      <td>10</td>\n",
              "      <td>9</td>\n",
              "      <td>0</td>\n",
              "      <td>0</td>\n",
              "      <td>0</td>\n",
              "      <td>0</td>\n",
              "      <td>0</td>\n",
              "      <td>0</td>\n",
              "    </tr>\n",
              "    <tr>\n",
              "      <th>1</th>\n",
              "      <td>ENSG00000000005</td>\n",
              "      <td>0</td>\n",
              "      <td>0</td>\n",
              "      <td>0</td>\n",
              "      <td>0</td>\n",
              "      <td>0</td>\n",
              "      <td>0</td>\n",
              "      <td>0</td>\n",
              "      <td>0</td>\n",
              "      <td>0</td>\n",
              "      <td>0</td>\n",
              "      <td>0</td>\n",
              "      <td>0</td>\n",
              "      <td>0</td>\n",
              "      <td>0</td>\n",
              "      <td>0</td>\n",
              "      <td>0</td>\n",
              "      <td>0</td>\n",
              "      <td>0</td>\n",
              "      <td>0</td>\n",
              "      <td>0</td>\n",
              "      <td>0</td>\n",
              "      <td>0</td>\n",
              "      <td>0</td>\n",
              "      <td>0</td>\n",
              "      <td>0</td>\n",
              "      <td>0</td>\n",
              "      <td>0</td>\n",
              "      <td>0</td>\n",
              "      <td>0</td>\n",
              "      <td>0</td>\n",
              "      <td>0</td>\n",
              "      <td>0</td>\n",
              "      <td>0</td>\n",
              "      <td>0</td>\n",
              "      <td>0</td>\n",
              "      <td>0</td>\n",
              "      <td>0</td>\n",
              "      <td>0</td>\n",
              "      <td>0</td>\n",
              "      <td>...</td>\n",
              "      <td>0</td>\n",
              "      <td>0</td>\n",
              "      <td>0</td>\n",
              "      <td>0</td>\n",
              "      <td>0</td>\n",
              "      <td>0</td>\n",
              "      <td>0</td>\n",
              "      <td>0</td>\n",
              "      <td>0</td>\n",
              "      <td>0</td>\n",
              "      <td>0</td>\n",
              "      <td>0</td>\n",
              "      <td>0</td>\n",
              "      <td>0</td>\n",
              "      <td>0</td>\n",
              "      <td>0</td>\n",
              "      <td>0</td>\n",
              "      <td>0</td>\n",
              "      <td>0</td>\n",
              "      <td>0</td>\n",
              "      <td>0</td>\n",
              "      <td>0</td>\n",
              "      <td>0</td>\n",
              "      <td>0</td>\n",
              "      <td>0</td>\n",
              "      <td>0</td>\n",
              "      <td>0</td>\n",
              "      <td>0</td>\n",
              "      <td>0</td>\n",
              "      <td>0</td>\n",
              "      <td>0</td>\n",
              "      <td>0</td>\n",
              "      <td>0</td>\n",
              "      <td>0</td>\n",
              "      <td>0</td>\n",
              "      <td>0</td>\n",
              "      <td>0</td>\n",
              "      <td>0</td>\n",
              "      <td>0</td>\n",
              "      <td>0</td>\n",
              "    </tr>\n",
              "    <tr>\n",
              "      <th>2</th>\n",
              "      <td>ENSG00000000419</td>\n",
              "      <td>44</td>\n",
              "      <td>14</td>\n",
              "      <td>16</td>\n",
              "      <td>8</td>\n",
              "      <td>9</td>\n",
              "      <td>0</td>\n",
              "      <td>139</td>\n",
              "      <td>108</td>\n",
              "      <td>55</td>\n",
              "      <td>7</td>\n",
              "      <td>27</td>\n",
              "      <td>0</td>\n",
              "      <td>0</td>\n",
              "      <td>24</td>\n",
              "      <td>12</td>\n",
              "      <td>102</td>\n",
              "      <td>93</td>\n",
              "      <td>1</td>\n",
              "      <td>10</td>\n",
              "      <td>41</td>\n",
              "      <td>4</td>\n",
              "      <td>16</td>\n",
              "      <td>0</td>\n",
              "      <td>9</td>\n",
              "      <td>39</td>\n",
              "      <td>13</td>\n",
              "      <td>19</td>\n",
              "      <td>61</td>\n",
              "      <td>17</td>\n",
              "      <td>18</td>\n",
              "      <td>43</td>\n",
              "      <td>5</td>\n",
              "      <td>29</td>\n",
              "      <td>30</td>\n",
              "      <td>0</td>\n",
              "      <td>1</td>\n",
              "      <td>0</td>\n",
              "      <td>180</td>\n",
              "      <td>8</td>\n",
              "      <td>...</td>\n",
              "      <td>21</td>\n",
              "      <td>0</td>\n",
              "      <td>25</td>\n",
              "      <td>11</td>\n",
              "      <td>2</td>\n",
              "      <td>30</td>\n",
              "      <td>17</td>\n",
              "      <td>14</td>\n",
              "      <td>25</td>\n",
              "      <td>40</td>\n",
              "      <td>12</td>\n",
              "      <td>2</td>\n",
              "      <td>25</td>\n",
              "      <td>18</td>\n",
              "      <td>40</td>\n",
              "      <td>6</td>\n",
              "      <td>32</td>\n",
              "      <td>12</td>\n",
              "      <td>4</td>\n",
              "      <td>0</td>\n",
              "      <td>3</td>\n",
              "      <td>24</td>\n",
              "      <td>12</td>\n",
              "      <td>0</td>\n",
              "      <td>31</td>\n",
              "      <td>27</td>\n",
              "      <td>46</td>\n",
              "      <td>42</td>\n",
              "      <td>6</td>\n",
              "      <td>30</td>\n",
              "      <td>2</td>\n",
              "      <td>41</td>\n",
              "      <td>40</td>\n",
              "      <td>15</td>\n",
              "      <td>1</td>\n",
              "      <td>0</td>\n",
              "      <td>13</td>\n",
              "      <td>0</td>\n",
              "      <td>0</td>\n",
              "      <td>10</td>\n",
              "    </tr>\n",
              "    <tr>\n",
              "      <th>3</th>\n",
              "      <td>ENSG00000000457</td>\n",
              "      <td>26</td>\n",
              "      <td>1</td>\n",
              "      <td>14</td>\n",
              "      <td>0</td>\n",
              "      <td>4</td>\n",
              "      <td>20</td>\n",
              "      <td>1</td>\n",
              "      <td>26</td>\n",
              "      <td>24</td>\n",
              "      <td>0</td>\n",
              "      <td>0</td>\n",
              "      <td>1</td>\n",
              "      <td>0</td>\n",
              "      <td>0</td>\n",
              "      <td>0</td>\n",
              "      <td>0</td>\n",
              "      <td>20</td>\n",
              "      <td>0</td>\n",
              "      <td>0</td>\n",
              "      <td>39</td>\n",
              "      <td>0</td>\n",
              "      <td>0</td>\n",
              "      <td>0</td>\n",
              "      <td>7</td>\n",
              "      <td>0</td>\n",
              "      <td>0</td>\n",
              "      <td>0</td>\n",
              "      <td>10</td>\n",
              "      <td>0</td>\n",
              "      <td>9</td>\n",
              "      <td>5</td>\n",
              "      <td>3</td>\n",
              "      <td>3</td>\n",
              "      <td>0</td>\n",
              "      <td>0</td>\n",
              "      <td>0</td>\n",
              "      <td>0</td>\n",
              "      <td>0</td>\n",
              "      <td>13</td>\n",
              "      <td>...</td>\n",
              "      <td>11</td>\n",
              "      <td>0</td>\n",
              "      <td>0</td>\n",
              "      <td>5</td>\n",
              "      <td>4</td>\n",
              "      <td>3</td>\n",
              "      <td>2</td>\n",
              "      <td>4</td>\n",
              "      <td>1</td>\n",
              "      <td>24</td>\n",
              "      <td>2</td>\n",
              "      <td>0</td>\n",
              "      <td>10</td>\n",
              "      <td>13</td>\n",
              "      <td>9</td>\n",
              "      <td>0</td>\n",
              "      <td>3</td>\n",
              "      <td>0</td>\n",
              "      <td>0</td>\n",
              "      <td>0</td>\n",
              "      <td>56</td>\n",
              "      <td>0</td>\n",
              "      <td>6</td>\n",
              "      <td>21</td>\n",
              "      <td>0</td>\n",
              "      <td>0</td>\n",
              "      <td>20</td>\n",
              "      <td>0</td>\n",
              "      <td>0</td>\n",
              "      <td>0</td>\n",
              "      <td>0</td>\n",
              "      <td>0</td>\n",
              "      <td>0</td>\n",
              "      <td>0</td>\n",
              "      <td>0</td>\n",
              "      <td>0</td>\n",
              "      <td>0</td>\n",
              "      <td>0</td>\n",
              "      <td>0</td>\n",
              "      <td>0</td>\n",
              "    </tr>\n",
              "    <tr>\n",
              "      <th>4</th>\n",
              "      <td>ENSG00000000460</td>\n",
              "      <td>81</td>\n",
              "      <td>98</td>\n",
              "      <td>18</td>\n",
              "      <td>17</td>\n",
              "      <td>0</td>\n",
              "      <td>20</td>\n",
              "      <td>144</td>\n",
              "      <td>26</td>\n",
              "      <td>97</td>\n",
              "      <td>6</td>\n",
              "      <td>11</td>\n",
              "      <td>7</td>\n",
              "      <td>85</td>\n",
              "      <td>128</td>\n",
              "      <td>28</td>\n",
              "      <td>224</td>\n",
              "      <td>120</td>\n",
              "      <td>21</td>\n",
              "      <td>16</td>\n",
              "      <td>20</td>\n",
              "      <td>21</td>\n",
              "      <td>20</td>\n",
              "      <td>80</td>\n",
              "      <td>27</td>\n",
              "      <td>28</td>\n",
              "      <td>37</td>\n",
              "      <td>25</td>\n",
              "      <td>43</td>\n",
              "      <td>23</td>\n",
              "      <td>11</td>\n",
              "      <td>18</td>\n",
              "      <td>22</td>\n",
              "      <td>35</td>\n",
              "      <td>16</td>\n",
              "      <td>28</td>\n",
              "      <td>0</td>\n",
              "      <td>3</td>\n",
              "      <td>0</td>\n",
              "      <td>37</td>\n",
              "      <td>...</td>\n",
              "      <td>38</td>\n",
              "      <td>3</td>\n",
              "      <td>5</td>\n",
              "      <td>6</td>\n",
              "      <td>19</td>\n",
              "      <td>15</td>\n",
              "      <td>5</td>\n",
              "      <td>13</td>\n",
              "      <td>15</td>\n",
              "      <td>37</td>\n",
              "      <td>41</td>\n",
              "      <td>1</td>\n",
              "      <td>17</td>\n",
              "      <td>11</td>\n",
              "      <td>79</td>\n",
              "      <td>16</td>\n",
              "      <td>8</td>\n",
              "      <td>1</td>\n",
              "      <td>36</td>\n",
              "      <td>0</td>\n",
              "      <td>17</td>\n",
              "      <td>1</td>\n",
              "      <td>48</td>\n",
              "      <td>18</td>\n",
              "      <td>23</td>\n",
              "      <td>11</td>\n",
              "      <td>12</td>\n",
              "      <td>3</td>\n",
              "      <td>9</td>\n",
              "      <td>40</td>\n",
              "      <td>23</td>\n",
              "      <td>1</td>\n",
              "      <td>6</td>\n",
              "      <td>22</td>\n",
              "      <td>30</td>\n",
              "      <td>0</td>\n",
              "      <td>1</td>\n",
              "      <td>50</td>\n",
              "      <td>6</td>\n",
              "      <td>2</td>\n",
              "    </tr>\n",
              "  </tbody>\n",
              "</table>\n",
              "<p>5 rows × 286 columns</p>\n",
              "</div>"
            ],
            "text/plain": [
              "           Column1  ...  MGH-NSCLC-L65-TR523\n",
              "0  ENSG00000000003  ...                    0\n",
              "1  ENSG00000000005  ...                    0\n",
              "2  ENSG00000000419  ...                   10\n",
              "3  ENSG00000000457  ...                    0\n",
              "4  ENSG00000000460  ...                    2\n",
              "\n",
              "[5 rows x 286 columns]"
            ]
          },
          "metadata": {
            "tags": []
          },
          "execution_count": 5
        }
      ]
    },
    {
      "cell_type": "code",
      "metadata": {
        "id": "MBRJSBoFBpQZ"
      },
      "source": [
        "df_T = df.transpose()"
      ],
      "execution_count": null,
      "outputs": []
    },
    {
      "cell_type": "code",
      "metadata": {
        "id": "91TIuySGhLI2"
      },
      "source": [
        "new_header = df_T.iloc[0] #grab the first row for the header\n",
        "df_T = df_T[1:] #take the data less the header row\n",
        "df_T.columns = new_header #set the header row as the df header"
      ],
      "execution_count": null,
      "outputs": []
    },
    {
      "cell_type": "code",
      "metadata": {
        "id": "cdTbXWkW6uj3"
      },
      "source": [
        "# for row_name in df.index: \n",
        "#     print(row_name)"
      ],
      "execution_count": null,
      "outputs": []
    },
    {
      "cell_type": "code",
      "metadata": {
        "id": "mehHdTyCIDhu",
        "colab": {
          "base_uri": "https://localhost:8080/",
          "height": 35
        },
        "outputId": "f92f01be-134c-41d0-c20b-bde4dff2ae82"
      },
      "source": [
        "df_T.shape"
      ],
      "execution_count": null,
      "outputs": [
        {
          "output_type": "execute_result",
          "data": {
            "text/plain": [
              "(285, 57736)"
            ]
          },
          "metadata": {
            "tags": []
          },
          "execution_count": 9
        }
      ]
    },
    {
      "cell_type": "code",
      "metadata": {
        "id": "ANKQU6cXCeG_"
      },
      "source": [
        "df_T['target']='c'"
      ],
      "execution_count": null,
      "outputs": []
    },
    {
      "cell_type": "code",
      "metadata": {
        "id": "dmbMrzAc_V72",
        "colab": {
          "base_uri": "https://localhost:8080/",
          "height": 439
        },
        "outputId": "13f30e2a-0491-4a16-d404-2f65240549dc"
      },
      "source": [
        "x=df_T.index\n",
        "print(x)\n",
        "print(df_T)\n"
      ],
      "execution_count": null,
      "outputs": [
        {
          "output_type": "stream",
          "text": [
            "Index(['3-Breast-Her2-ampl', '8-Breast-WT', '10-Breast-Her2-ampl',\n",
            "       'Breast-100', '15-Breast-Her2-ampl', '16-Breast-WT', '21-Breast-WT',\n",
            "       '33-Breast-Her2-ampl', '42-Breast-Her2-ampl', 'Breast-454',\n",
            "       ...\n",
            "       'MGH-NSCLC-L20-TR500', 'MGH-NSCLC-L22-TR462', 'MGH-NSCLC-L23-TR524',\n",
            "       'MGH-NSCLC-L25-TR480', 'MGH-NSCLC-L39-TR519', 'MGH-NSCLC-L40-TR520',\n",
            "       'MGH-NSCLC-L51-TR521', 'MGH-NSCLC-L58-TR525', 'MGH-NSCLC-L59-TR522',\n",
            "       'MGH-NSCLC-L65-TR523'],\n",
            "      dtype='object', length=285)\n",
            "Column1             ENSG00000000003 ENSG00000000005  ... ENSG00000273493 target\n",
            "3-Breast-Her2-ampl                0               0  ...               0      c\n",
            "8-Breast-WT                       0               0  ...               0      c\n",
            "10-Breast-Her2-ampl               0               0  ...               0      c\n",
            "Breast-100                        0               0  ...               0      c\n",
            "15-Breast-Her2-ampl              17               0  ...               0      c\n",
            "...                             ...             ...  ...             ...    ...\n",
            "MGH-NSCLC-L40-TR520               0               0  ...               0      c\n",
            "MGH-NSCLC-L51-TR521               0               0  ...               0      c\n",
            "MGH-NSCLC-L58-TR525               0               0  ...               0      c\n",
            "MGH-NSCLC-L59-TR522               0               0  ...               0      c\n",
            "MGH-NSCLC-L65-TR523               0               0  ...               0      c\n",
            "\n",
            "[285 rows x 57737 columns]\n"
          ],
          "name": "stdout"
        }
      ]
    },
    {
      "cell_type": "code",
      "metadata": {
        "id": "HPt2Vpv6-8Ol",
        "colab": {
          "base_uri": "https://localhost:8080/",
          "height": 368
        },
        "outputId": "9c7032ee-38e4-4e5b-f9b5-b4ed02712e2f"
      },
      "source": [
        "# all 280 source titles:\n",
        "source_titles = \"Blood_Platelets_Breast-03\tBlood_Platelets_Breast-08\tBlood_Platelets_Breast-10\tBlood_Platelets_Breast-100\tBlood_Platelets_Breast-15\tBlood_Platelets_Breast-16\tBlood_Platelets_Breast-21\tBlood_Platelets_Breast-33\tBlood_Platelets_Breast-42\tBlood_Platelets_Breast-454\tBlood_Platelets_Breast-48\tBlood_Platelets_Breast-50\tBlood_Platelets_Breast-55\tBlood_Platelets_Breast-56\tBlood_Platelets_Breast-564\tBlood_Platelets_Breast-59\tBlood_Platelets_Breast-590\tBlood_Platelets_Breast-60\tBlood_Platelets_Breast-603\tBlood_Platelets_Breast-61\tBlood_Platelets_Breast-85\tBlood_Platelets_Breast-86\tBlood_Platelets_Breast-97\tBlood_Platelets_Breast-ALK-82\tBlood_Platelets_Chol-292\tBlood_Platelets_Chol-316\tBlood_Platelets_Chol-341\tBlood_Platelets_Chol-376\tBlood_Platelets_Chol-379\tBlood_Platelets_Chol-410\tBlood_Platelets_Chol-442\tBlood_Platelets_Chol-460\tBlood_Platelets_Chol-611\tBlood_Platelets_Chol-ALK-28\tBlood_Platelets_CRC-256\tBlood_Platelets_CRC-258\tBlood_Platelets_CRC-272\tBlood_Platelets_CRC-276\tBlood_Platelets_CRC-304\tBlood_Platelets_CRC-329\tBlood_Platelets_CRC-342\tBlood_Platelets_CRC-351\tBlood_Platelets_CRC-354\tBlood_Platelets_CRC-356\tBlood_Platelets_CRC-357\tBlood_Platelets_CRC-374\tBlood_Platelets_CRC-378\tBlood_Platelets_CRC-420\tBlood_Platelets_CRC-429\tBlood_Platelets_CRC-450\tBlood_Platelets_CRC-453\tBlood_Platelets_CRC-459\tBlood_Platelets_CRC-462\tBlood_Platelets_CRC-463\tBlood_Platelets_CRC-466\tBlood_Platelets_CRC-474\tBlood_Platelets_CRC-487\tBlood_Platelets_CRC-496\tBlood_Platelets_CRC-497\tBlood_Platelets_CRC-504\tBlood_Platelets_CRC-511\tBlood_Platelets_CRC-523\tBlood_Platelets_CRC-524\tBlood_Platelets_CRC-527\tBlood_Platelets_CRC-531\tBlood_Platelets_CRC-543\tBlood_Platelets_CRC-546\tBlood_Platelets_CRC-548\tBlood_Platelets_CRC-552\tBlood_Platelets_CRC-556\tBlood_Platelets_CRC-565\tBlood_Platelets_CRC-576\tBlood_Platelets_GBM-280\tBlood_Platelets_GBM-284\tBlood_Platelets_GBM-306\tBlood_Platelets_GBM-360\tBlood_Platelets_GBM-372\tBlood_Platelets_GBM-378\tBlood_Platelets_GBM-383\tBlood_Platelets_GBM-393\tBlood_Platelets_GBM-394\tBlood_Platelets_GBM-398\tBlood_Platelets_GBM-402\tBlood_Platelets_GBM-406\tBlood_Platelets_GBM-408\tBlood_Platelets_GBM-417\tBlood_Platelets_GBM-418\tBlood_Platelets_GBM-419\tBlood_Platelets_GBM-421\tBlood_Platelets_GBM-422\tBlood_Platelets_GBM-425\tBlood_Platelets_GBM-429\tBlood_Platelets_GBM-430\tBlood_Platelets_GBM-431\tBlood_Platelets_GBM-436\tBlood_Platelets_GBM-438\tBlood_Platelets_GBM-439\tBlood_Platelets_GBM-440\tBlood_Platelets_GBM-443\tBlood_Platelets_GBM-445\tBlood_Platelets_GBM-454\tBlood_Platelets_GBM-456\tBlood_Platelets_GBM-468\tBlood_Platelets_GBM-471\tBlood_Platelets_GBM-475\tBlood_Platelets_GBM-476\tBlood_Platelets_GBM-480\tBlood_Platelets_GBM-484\tBlood_Platelets_GBM-485\tBlood_Platelets_GBM-486\tBlood_Platelets_GBM-499\tBlood_Platelets_GBM-505\tBlood_Platelets_HC-01\tBlood_Platelets_HC-02\tBlood_Platelets_HC-03\tBlood_Platelets_HC-04\tBlood_Platelets_HC-05\tBlood_Platelets_HC-06\tBlood_Platelets_HC-07\tBlood_Platelets_HC-08\tBlood_Platelets_HC-09\tBlood_Platelets_HC-10\tBlood_Platelets_HC-11\tBlood_Platelets_HC-12\tBlood_Platelets_HC-13\tBlood_Platelets_HC-14\tBlood_Platelets_HC-15\tBlood_Platelets_HC-16\tBlood_Platelets_HC-17\tBlood_Platelets_HC-18\tBlood_Platelets_HC-19\tBlood_Platelets_HC-20\tBlood_Platelets_HC-21\tBlood_Platelets_HC-22\tBlood_Platelets_HC-23\tBlood_Platelets_HC-24\tBlood_Platelets_HC-25\tBlood_Platelets_HC-26\tBlood_Platelets_HC-27\tBlood_Platelets_HC-28\tBlood_Platelets_HC-29\tBlood_Platelets_HC-30\tBlood_Platelets_HC-31\tBlood_Platelets_HC-32\tBlood_Platelets_HC-33\tBlood_Platelets_HC-34\tBlood_Platelets_HC-35\tBlood_Platelets_HC-36\tBlood_Platelets_HC-37\tBlood_Platelets_HC-38\tBlood_Platelets_HC-39\tBlood_Platelets_HC-40\tBlood_Platelets_HC-41\tBlood_Platelets_HC-42\tBlood_Platelets_HC-43\tBlood_Platelets_HC-44\tBlood_Platelets_HC-45\tBlood_Platelets_HC-46\tBlood_Platelets_HC-47\tBlood_Platelets_HC-48\tBlood_Platelets_HC-49\tBlood_Platelets_HC-50\tBlood_Platelets_HC-51\tBlood_Platelets_HC-52\tBlood_Platelets_HC-53\tBlood_Platelets_HC-54\tBlood_Platelets_HC-55\tBlood_Platelets_Liver-274\tBlood_Platelets_Liver-297\tBlood_Platelets_Liver-366\tBlood_Platelets_Lung-0082\tBlood_Platelets_Lung-0096\tBlood_Platelets_Lung-01\tBlood_Platelets_Lung-0100\tBlood_Platelets_Lung-0101\tBlood_Platelets_Lung-0102\tBlood_Platelets_Lung-0104\tBlood_Platelets_Lung-0110\tBlood_Platelets_Lung-0112\tBlood_Platelets_Lung-0119\tBlood_Platelets_Lung-04\tBlood_Platelets_Lung-06\tBlood_Platelets_Lung-07\tBlood_Platelets_Lung-08\tBlood_Platelets_Lung-12\tBlood_Platelets_Lung-14\tBlood_Platelets_Lung-15\tBlood_Platelets_Lung-16\tBlood_Platelets_Lung-17\tBlood_Platelets_Lung-20\tBlood_Platelets_Lung-20-1\tBlood_Platelets_Lung-24-1\tBlood_Platelets_Lung-25\tBlood_Platelets_Lung-26\tBlood_Platelets_Lung-271\tBlood_Platelets_Lung-29\tBlood_Platelets_Lung-30\tBlood_Platelets_Lung-37\tBlood_Platelets_Lung-40\tBlood_Platelets_Lung-42\tBlood_Platelets_Lung-46\tBlood_Platelets_Lung-58\tBlood_Platelets_Lung-61\tBlood_Platelets_Lung-62\tBlood_Platelets_Lung-74\tBlood_Platelets_Lung-L.13\tBlood_Platelets_Lung-L.15\tBlood_Platelets_Lung-L.26\tBlood_Platelets_Lung-L.33\tBlood_Platelets_Lung-L.4\tBlood_Platelets_Panc-260\tBlood_Platelets_Panc-286\tBlood_Platelets_Panc-314\tBlood_Platelets_Panc-327\tBlood_Platelets_Panc-328\tBlood_Platelets_Panc-331\tBlood_Platelets_Panc-335\tBlood_Platelets_Panc-367\tBlood_Platelets_Panc-369\tBlood_Platelets_Panc-370\tBlood_Platelets_Panc-371\tBlood_Platelets_Panc-380\tBlood_Platelets_Panc-382\tBlood_Platelets_Panc-387\tBlood_Platelets_Panc-388\tBlood_Platelets_Panc-389\tBlood_Platelets_Panc-390\tBlood_Platelets_Panc-391\tBlood_Platelets_Panc-431\tBlood_Platelets_Panc-434\tBlood_Platelets_Panc-435\tBlood_Platelets_Panc-448\tBlood_Platelets_Panc-449\tBlood_Platelets_Panc-451\tBlood_Platelets_Panc-461\tBlood_Platelets_Panc-477\tBlood_Platelets_Panc-488\tBlood_Platelets_Panc-493\tBlood_Platelets_Panc-498\tBlood_Platelets_Panc-501\tBlood_Platelets_Panc-503\tBlood_Platelets_Panc-512\tBlood_Platelets_Panc-553\tBlood_Platelets_Panc-593\tBlood_Platelets_Panc-597\tBlood_Platelets_Breast-H11\tBlood_Platelets_Breast-H31\tBlood_Platelets_Breast-H38\tBlood_Platelets_Breast-H59\tBlood_Platelets_Breast-H63\tBlood_Platelets_Breast-H66\tBlood_Platelets_Breast-H68\tBlood_Platelets_Breast-H74\tBlood_Platelets_Breast-H75\tBlood_Platelets_Breast-H76\tBlood_Platelets_Breast-H81\tBlood_Platelets_Breast-H83\tBlood_Platelets_Breast-H84\tBlood_Platelets_Breast-H89\tBlood_Platelets_Breast-H92\tBlood_Platelets_Chol-BRAF4\tBlood_Platelets_CRC-368\tBlood_Platelets_CRC-412\tBlood_Platelets_CRC-BRAF5\tBlood_Platelets_CRC-BRAF6\tBlood_Platelets_Lung-49\tBlood_Platelets_Lung-57\tBlood_Platelets_Lung-59\tBlood_Platelets_Lung-L01\tBlood_Platelets_Lung-L03\tBlood_Platelets_Lung-L07\tBlood_Platelets_Lung-L11\tBlood_Platelets_Lung-L12\tBlood_Platelets_Lung-L18\tBlood_Platelets_Lung-L19\tBlood_Platelets_Lung-L20\tBlood_Platelets_Lung-L22\tBlood_Platelets_Lung-L23\tBlood_Platelets_Lung-L25\tBlood_Platelets_Lung-L39\tBlood_Platelets_Lung-L40\tBlood_Platelets_Lung-L51\tBlood_Platelets_Lung-L58\tBlood_Platelets_Lung-L59\tBlood_Platelets_Lung-L65\"\n",
        "source_titles = source_titles.split()\n",
        "print(\"source_titles: \", source_titles)\n",
        "i=0\n",
        "for y in source_titles:\n",
        "  # print(y.find('HD'))\n",
        "  # print(y)\n",
        "  if (y.find('HC') != -1):\n",
        "    df_T['target'].iloc[i]='h'\n",
        "  else:\n",
        "    df_T['target'].iloc[i]='c'\n",
        "  i=i+1\n",
        "print(df_T)\n",
        "print(df_T.target.value_counts())"
      ],
      "execution_count": null,
      "outputs": [
        {
          "output_type": "stream",
          "text": [
            "source_titles:  ['Blood_Platelets_Breast-03', 'Blood_Platelets_Breast-08', 'Blood_Platelets_Breast-10', 'Blood_Platelets_Breast-100', 'Blood_Platelets_Breast-15', 'Blood_Platelets_Breast-16', 'Blood_Platelets_Breast-21', 'Blood_Platelets_Breast-33', 'Blood_Platelets_Breast-42', 'Blood_Platelets_Breast-454', 'Blood_Platelets_Breast-48', 'Blood_Platelets_Breast-50', 'Blood_Platelets_Breast-55', 'Blood_Platelets_Breast-56', 'Blood_Platelets_Breast-564', 'Blood_Platelets_Breast-59', 'Blood_Platelets_Breast-590', 'Blood_Platelets_Breast-60', 'Blood_Platelets_Breast-603', 'Blood_Platelets_Breast-61', 'Blood_Platelets_Breast-85', 'Blood_Platelets_Breast-86', 'Blood_Platelets_Breast-97', 'Blood_Platelets_Breast-ALK-82', 'Blood_Platelets_Chol-292', 'Blood_Platelets_Chol-316', 'Blood_Platelets_Chol-341', 'Blood_Platelets_Chol-376', 'Blood_Platelets_Chol-379', 'Blood_Platelets_Chol-410', 'Blood_Platelets_Chol-442', 'Blood_Platelets_Chol-460', 'Blood_Platelets_Chol-611', 'Blood_Platelets_Chol-ALK-28', 'Blood_Platelets_CRC-256', 'Blood_Platelets_CRC-258', 'Blood_Platelets_CRC-272', 'Blood_Platelets_CRC-276', 'Blood_Platelets_CRC-304', 'Blood_Platelets_CRC-329', 'Blood_Platelets_CRC-342', 'Blood_Platelets_CRC-351', 'Blood_Platelets_CRC-354', 'Blood_Platelets_CRC-356', 'Blood_Platelets_CRC-357', 'Blood_Platelets_CRC-374', 'Blood_Platelets_CRC-378', 'Blood_Platelets_CRC-420', 'Blood_Platelets_CRC-429', 'Blood_Platelets_CRC-450', 'Blood_Platelets_CRC-453', 'Blood_Platelets_CRC-459', 'Blood_Platelets_CRC-462', 'Blood_Platelets_CRC-463', 'Blood_Platelets_CRC-466', 'Blood_Platelets_CRC-474', 'Blood_Platelets_CRC-487', 'Blood_Platelets_CRC-496', 'Blood_Platelets_CRC-497', 'Blood_Platelets_CRC-504', 'Blood_Platelets_CRC-511', 'Blood_Platelets_CRC-523', 'Blood_Platelets_CRC-524', 'Blood_Platelets_CRC-527', 'Blood_Platelets_CRC-531', 'Blood_Platelets_CRC-543', 'Blood_Platelets_CRC-546', 'Blood_Platelets_CRC-548', 'Blood_Platelets_CRC-552', 'Blood_Platelets_CRC-556', 'Blood_Platelets_CRC-565', 'Blood_Platelets_CRC-576', 'Blood_Platelets_GBM-280', 'Blood_Platelets_GBM-284', 'Blood_Platelets_GBM-306', 'Blood_Platelets_GBM-360', 'Blood_Platelets_GBM-372', 'Blood_Platelets_GBM-378', 'Blood_Platelets_GBM-383', 'Blood_Platelets_GBM-393', 'Blood_Platelets_GBM-394', 'Blood_Platelets_GBM-398', 'Blood_Platelets_GBM-402', 'Blood_Platelets_GBM-406', 'Blood_Platelets_GBM-408', 'Blood_Platelets_GBM-417', 'Blood_Platelets_GBM-418', 'Blood_Platelets_GBM-419', 'Blood_Platelets_GBM-421', 'Blood_Platelets_GBM-422', 'Blood_Platelets_GBM-425', 'Blood_Platelets_GBM-429', 'Blood_Platelets_GBM-430', 'Blood_Platelets_GBM-431', 'Blood_Platelets_GBM-436', 'Blood_Platelets_GBM-438', 'Blood_Platelets_GBM-439', 'Blood_Platelets_GBM-440', 'Blood_Platelets_GBM-443', 'Blood_Platelets_GBM-445', 'Blood_Platelets_GBM-454', 'Blood_Platelets_GBM-456', 'Blood_Platelets_GBM-468', 'Blood_Platelets_GBM-471', 'Blood_Platelets_GBM-475', 'Blood_Platelets_GBM-476', 'Blood_Platelets_GBM-480', 'Blood_Platelets_GBM-484', 'Blood_Platelets_GBM-485', 'Blood_Platelets_GBM-486', 'Blood_Platelets_GBM-499', 'Blood_Platelets_GBM-505', 'Blood_Platelets_HC-01', 'Blood_Platelets_HC-02', 'Blood_Platelets_HC-03', 'Blood_Platelets_HC-04', 'Blood_Platelets_HC-05', 'Blood_Platelets_HC-06', 'Blood_Platelets_HC-07', 'Blood_Platelets_HC-08', 'Blood_Platelets_HC-09', 'Blood_Platelets_HC-10', 'Blood_Platelets_HC-11', 'Blood_Platelets_HC-12', 'Blood_Platelets_HC-13', 'Blood_Platelets_HC-14', 'Blood_Platelets_HC-15', 'Blood_Platelets_HC-16', 'Blood_Platelets_HC-17', 'Blood_Platelets_HC-18', 'Blood_Platelets_HC-19', 'Blood_Platelets_HC-20', 'Blood_Platelets_HC-21', 'Blood_Platelets_HC-22', 'Blood_Platelets_HC-23', 'Blood_Platelets_HC-24', 'Blood_Platelets_HC-25', 'Blood_Platelets_HC-26', 'Blood_Platelets_HC-27', 'Blood_Platelets_HC-28', 'Blood_Platelets_HC-29', 'Blood_Platelets_HC-30', 'Blood_Platelets_HC-31', 'Blood_Platelets_HC-32', 'Blood_Platelets_HC-33', 'Blood_Platelets_HC-34', 'Blood_Platelets_HC-35', 'Blood_Platelets_HC-36', 'Blood_Platelets_HC-37', 'Blood_Platelets_HC-38', 'Blood_Platelets_HC-39', 'Blood_Platelets_HC-40', 'Blood_Platelets_HC-41', 'Blood_Platelets_HC-42', 'Blood_Platelets_HC-43', 'Blood_Platelets_HC-44', 'Blood_Platelets_HC-45', 'Blood_Platelets_HC-46', 'Blood_Platelets_HC-47', 'Blood_Platelets_HC-48', 'Blood_Platelets_HC-49', 'Blood_Platelets_HC-50', 'Blood_Platelets_HC-51', 'Blood_Platelets_HC-52', 'Blood_Platelets_HC-53', 'Blood_Platelets_HC-54', 'Blood_Platelets_HC-55', 'Blood_Platelets_Liver-274', 'Blood_Platelets_Liver-297', 'Blood_Platelets_Liver-366', 'Blood_Platelets_Lung-0082', 'Blood_Platelets_Lung-0096', 'Blood_Platelets_Lung-01', 'Blood_Platelets_Lung-0100', 'Blood_Platelets_Lung-0101', 'Blood_Platelets_Lung-0102', 'Blood_Platelets_Lung-0104', 'Blood_Platelets_Lung-0110', 'Blood_Platelets_Lung-0112', 'Blood_Platelets_Lung-0119', 'Blood_Platelets_Lung-04', 'Blood_Platelets_Lung-06', 'Blood_Platelets_Lung-07', 'Blood_Platelets_Lung-08', 'Blood_Platelets_Lung-12', 'Blood_Platelets_Lung-14', 'Blood_Platelets_Lung-15', 'Blood_Platelets_Lung-16', 'Blood_Platelets_Lung-17', 'Blood_Platelets_Lung-20', 'Blood_Platelets_Lung-20-1', 'Blood_Platelets_Lung-24-1', 'Blood_Platelets_Lung-25', 'Blood_Platelets_Lung-26', 'Blood_Platelets_Lung-271', 'Blood_Platelets_Lung-29', 'Blood_Platelets_Lung-30', 'Blood_Platelets_Lung-37', 'Blood_Platelets_Lung-40', 'Blood_Platelets_Lung-42', 'Blood_Platelets_Lung-46', 'Blood_Platelets_Lung-58', 'Blood_Platelets_Lung-61', 'Blood_Platelets_Lung-62', 'Blood_Platelets_Lung-74', 'Blood_Platelets_Lung-L.13', 'Blood_Platelets_Lung-L.15', 'Blood_Platelets_Lung-L.26', 'Blood_Platelets_Lung-L.33', 'Blood_Platelets_Lung-L.4', 'Blood_Platelets_Panc-260', 'Blood_Platelets_Panc-286', 'Blood_Platelets_Panc-314', 'Blood_Platelets_Panc-327', 'Blood_Platelets_Panc-328', 'Blood_Platelets_Panc-331', 'Blood_Platelets_Panc-335', 'Blood_Platelets_Panc-367', 'Blood_Platelets_Panc-369', 'Blood_Platelets_Panc-370', 'Blood_Platelets_Panc-371', 'Blood_Platelets_Panc-380', 'Blood_Platelets_Panc-382', 'Blood_Platelets_Panc-387', 'Blood_Platelets_Panc-388', 'Blood_Platelets_Panc-389', 'Blood_Platelets_Panc-390', 'Blood_Platelets_Panc-391', 'Blood_Platelets_Panc-431', 'Blood_Platelets_Panc-434', 'Blood_Platelets_Panc-435', 'Blood_Platelets_Panc-448', 'Blood_Platelets_Panc-449', 'Blood_Platelets_Panc-451', 'Blood_Platelets_Panc-461', 'Blood_Platelets_Panc-477', 'Blood_Platelets_Panc-488', 'Blood_Platelets_Panc-493', 'Blood_Platelets_Panc-498', 'Blood_Platelets_Panc-501', 'Blood_Platelets_Panc-503', 'Blood_Platelets_Panc-512', 'Blood_Platelets_Panc-553', 'Blood_Platelets_Panc-593', 'Blood_Platelets_Panc-597', 'Blood_Platelets_Breast-H11', 'Blood_Platelets_Breast-H31', 'Blood_Platelets_Breast-H38', 'Blood_Platelets_Breast-H59', 'Blood_Platelets_Breast-H63', 'Blood_Platelets_Breast-H66', 'Blood_Platelets_Breast-H68', 'Blood_Platelets_Breast-H74', 'Blood_Platelets_Breast-H75', 'Blood_Platelets_Breast-H76', 'Blood_Platelets_Breast-H81', 'Blood_Platelets_Breast-H83', 'Blood_Platelets_Breast-H84', 'Blood_Platelets_Breast-H89', 'Blood_Platelets_Breast-H92', 'Blood_Platelets_Chol-BRAF4', 'Blood_Platelets_CRC-368', 'Blood_Platelets_CRC-412', 'Blood_Platelets_CRC-BRAF5', 'Blood_Platelets_CRC-BRAF6', 'Blood_Platelets_Lung-49', 'Blood_Platelets_Lung-57', 'Blood_Platelets_Lung-59', 'Blood_Platelets_Lung-L01', 'Blood_Platelets_Lung-L03', 'Blood_Platelets_Lung-L07', 'Blood_Platelets_Lung-L11', 'Blood_Platelets_Lung-L12', 'Blood_Platelets_Lung-L18', 'Blood_Platelets_Lung-L19', 'Blood_Platelets_Lung-L20', 'Blood_Platelets_Lung-L22', 'Blood_Platelets_Lung-L23', 'Blood_Platelets_Lung-L25', 'Blood_Platelets_Lung-L39', 'Blood_Platelets_Lung-L40', 'Blood_Platelets_Lung-L51', 'Blood_Platelets_Lung-L58', 'Blood_Platelets_Lung-L59', 'Blood_Platelets_Lung-L65']\n",
            "Column1             ENSG00000000003 ENSG00000000005  ... ENSG00000273493 target\n",
            "3-Breast-Her2-ampl                0               0  ...               0      c\n",
            "8-Breast-WT                       0               0  ...               0      c\n",
            "10-Breast-Her2-ampl               0               0  ...               0      c\n",
            "Breast-100                        0               0  ...               0      c\n",
            "15-Breast-Her2-ampl              17               0  ...               0      c\n",
            "...                             ...             ...  ...             ...    ...\n",
            "MGH-NSCLC-L40-TR520               0               0  ...               0      c\n",
            "MGH-NSCLC-L51-TR521               0               0  ...               0      c\n",
            "MGH-NSCLC-L58-TR525               0               0  ...               0      c\n",
            "MGH-NSCLC-L59-TR522               0               0  ...               0      c\n",
            "MGH-NSCLC-L65-TR523               0               0  ...               0      c\n",
            "\n",
            "[285 rows x 57737 columns]\n",
            "c    230\n",
            "h     55\n",
            "Name: target, dtype: int64\n"
          ],
          "name": "stdout"
        }
      ]
    },
    {
      "cell_type": "code",
      "metadata": {
        "id": "Gi8kDaB6KIF3"
      },
      "source": [
        "Processed_data=df_T"
      ],
      "execution_count": null,
      "outputs": []
    },
    {
      "cell_type": "code",
      "metadata": {
        "id": "HNLOYVn9fKJQ",
        "colab": {
          "base_uri": "https://localhost:8080/",
          "height": 274
        },
        "outputId": "72ce9d08-403e-42c5-e84d-8f21f77189a1"
      },
      "source": [
        "print(df_T)"
      ],
      "execution_count": null,
      "outputs": [
        {
          "output_type": "stream",
          "text": [
            "Column1             ENSG00000000003 ENSG00000000005  ... ENSG00000273493 target\n",
            "3-Breast-Her2-ampl                0               0  ...               0      c\n",
            "8-Breast-WT                       0               0  ...               0      c\n",
            "10-Breast-Her2-ampl               0               0  ...               0      c\n",
            "Breast-100                        0               0  ...               0      c\n",
            "15-Breast-Her2-ampl              17               0  ...               0      c\n",
            "...                             ...             ...  ...             ...    ...\n",
            "MGH-NSCLC-L40-TR520               0               0  ...               0      c\n",
            "MGH-NSCLC-L51-TR521               0               0  ...               0      c\n",
            "MGH-NSCLC-L58-TR525               0               0  ...               0      c\n",
            "MGH-NSCLC-L59-TR522               0               0  ...               0      c\n",
            "MGH-NSCLC-L65-TR523               0               0  ...               0      c\n",
            "\n",
            "[285 rows x 57737 columns]\n"
          ],
          "name": "stdout"
        }
      ]
    },
    {
      "cell_type": "code",
      "metadata": {
        "id": "R2rh979UHdGd"
      },
      "source": [
        "#df.replace(0, np.nan, inplace=True)"
      ],
      "execution_count": null,
      "outputs": []
    },
    {
      "cell_type": "code",
      "metadata": {
        "id": "aZL14KQuHdGi"
      },
      "source": [
        "#df=df.dropna(axis='columns', thresh=284) #drop all columns having 250 NA's\n",
        "#df.shape"
      ],
      "execution_count": null,
      "outputs": []
    },
    {
      "cell_type": "markdown",
      "metadata": {
        "id": "Ose6EMYGMpyw"
      },
      "source": [
        "## Cancerous or Healthy"
      ]
    },
    {
      "cell_type": "code",
      "metadata": {
        "id": "YY54bncAKKQO"
      },
      "source": [
        "# fix random seed for reproducibility\n",
        "seed = 7\n",
        "np.random.seed(seed)"
      ],
      "execution_count": null,
      "outputs": []
    },
    {
      "cell_type": "code",
      "metadata": {
        "id": "5wJEjHvSL83Z",
        "colab": {
          "base_uri": "https://localhost:8080/",
          "height": 605
        },
        "outputId": "d1d8e6ab-dfdc-4537-c460-6ee3dafaeba4"
      },
      "source": [
        "print(Processed_data.target.values)\n",
        "Processed_data.groupby('target').size()\n",
        "print(Processed_data.target.values)"
      ],
      "execution_count": null,
      "outputs": [
        {
          "output_type": "stream",
          "text": [
            "['c' 'c' 'c' 'c' 'c' 'c' 'c' 'c' 'c' 'c' 'c' 'c' 'c' 'c' 'c' 'c' 'c' 'c'\n",
            " 'c' 'c' 'c' 'c' 'c' 'c' 'c' 'c' 'c' 'c' 'c' 'c' 'c' 'c' 'c' 'c' 'c' 'c'\n",
            " 'c' 'c' 'c' 'c' 'c' 'c' 'c' 'c' 'c' 'c' 'c' 'c' 'c' 'c' 'c' 'c' 'c' 'c'\n",
            " 'c' 'c' 'c' 'c' 'c' 'c' 'c' 'c' 'c' 'c' 'c' 'c' 'c' 'c' 'c' 'c' 'c' 'c'\n",
            " 'c' 'c' 'c' 'c' 'c' 'c' 'c' 'c' 'c' 'c' 'c' 'c' 'c' 'c' 'c' 'c' 'c' 'c'\n",
            " 'c' 'c' 'c' 'c' 'c' 'c' 'c' 'c' 'c' 'c' 'c' 'c' 'c' 'c' 'c' 'c' 'c' 'c'\n",
            " 'c' 'c' 'c' 'c' 'h' 'h' 'h' 'h' 'h' 'h' 'h' 'h' 'h' 'h' 'h' 'h' 'h' 'h'\n",
            " 'h' 'h' 'h' 'h' 'h' 'h' 'h' 'h' 'h' 'h' 'h' 'h' 'h' 'h' 'h' 'h' 'h' 'h'\n",
            " 'h' 'h' 'h' 'h' 'h' 'h' 'h' 'h' 'h' 'h' 'h' 'h' 'h' 'h' 'h' 'h' 'h' 'h'\n",
            " 'h' 'h' 'h' 'h' 'h' 'c' 'c' 'c' 'c' 'c' 'c' 'c' 'c' 'c' 'c' 'c' 'c' 'c'\n",
            " 'c' 'c' 'c' 'c' 'c' 'c' 'c' 'c' 'c' 'c' 'c' 'c' 'c' 'c' 'c' 'c' 'c' 'c'\n",
            " 'c' 'c' 'c' 'c' 'c' 'c' 'c' 'c' 'c' 'c' 'c' 'c' 'c' 'c' 'c' 'c' 'c' 'c'\n",
            " 'c' 'c' 'c' 'c' 'c' 'c' 'c' 'c' 'c' 'c' 'c' 'c' 'c' 'c' 'c' 'c' 'c' 'c'\n",
            " 'c' 'c' 'c' 'c' 'c' 'c' 'c' 'c' 'c' 'c' 'c' 'c' 'c' 'c' 'c' 'c' 'c' 'c'\n",
            " 'c' 'c' 'c' 'c' 'c' 'c' 'c' 'c' 'c' 'c' 'c' 'c' 'c' 'c' 'c' 'c' 'c' 'c'\n",
            " 'c' 'c' 'c' 'c' 'c' 'c' 'c' 'c' 'c' 'c' 'c' 'c' 'c' 'c' 'c']\n",
            "['c' 'c' 'c' 'c' 'c' 'c' 'c' 'c' 'c' 'c' 'c' 'c' 'c' 'c' 'c' 'c' 'c' 'c'\n",
            " 'c' 'c' 'c' 'c' 'c' 'c' 'c' 'c' 'c' 'c' 'c' 'c' 'c' 'c' 'c' 'c' 'c' 'c'\n",
            " 'c' 'c' 'c' 'c' 'c' 'c' 'c' 'c' 'c' 'c' 'c' 'c' 'c' 'c' 'c' 'c' 'c' 'c'\n",
            " 'c' 'c' 'c' 'c' 'c' 'c' 'c' 'c' 'c' 'c' 'c' 'c' 'c' 'c' 'c' 'c' 'c' 'c'\n",
            " 'c' 'c' 'c' 'c' 'c' 'c' 'c' 'c' 'c' 'c' 'c' 'c' 'c' 'c' 'c' 'c' 'c' 'c'\n",
            " 'c' 'c' 'c' 'c' 'c' 'c' 'c' 'c' 'c' 'c' 'c' 'c' 'c' 'c' 'c' 'c' 'c' 'c'\n",
            " 'c' 'c' 'c' 'c' 'h' 'h' 'h' 'h' 'h' 'h' 'h' 'h' 'h' 'h' 'h' 'h' 'h' 'h'\n",
            " 'h' 'h' 'h' 'h' 'h' 'h' 'h' 'h' 'h' 'h' 'h' 'h' 'h' 'h' 'h' 'h' 'h' 'h'\n",
            " 'h' 'h' 'h' 'h' 'h' 'h' 'h' 'h' 'h' 'h' 'h' 'h' 'h' 'h' 'h' 'h' 'h' 'h'\n",
            " 'h' 'h' 'h' 'h' 'h' 'c' 'c' 'c' 'c' 'c' 'c' 'c' 'c' 'c' 'c' 'c' 'c' 'c'\n",
            " 'c' 'c' 'c' 'c' 'c' 'c' 'c' 'c' 'c' 'c' 'c' 'c' 'c' 'c' 'c' 'c' 'c' 'c'\n",
            " 'c' 'c' 'c' 'c' 'c' 'c' 'c' 'c' 'c' 'c' 'c' 'c' 'c' 'c' 'c' 'c' 'c' 'c'\n",
            " 'c' 'c' 'c' 'c' 'c' 'c' 'c' 'c' 'c' 'c' 'c' 'c' 'c' 'c' 'c' 'c' 'c' 'c'\n",
            " 'c' 'c' 'c' 'c' 'c' 'c' 'c' 'c' 'c' 'c' 'c' 'c' 'c' 'c' 'c' 'c' 'c' 'c'\n",
            " 'c' 'c' 'c' 'c' 'c' 'c' 'c' 'c' 'c' 'c' 'c' 'c' 'c' 'c' 'c' 'c' 'c' 'c'\n",
            " 'c' 'c' 'c' 'c' 'c' 'c' 'c' 'c' 'c' 'c' 'c' 'c' 'c' 'c' 'c']\n"
          ],
          "name": "stdout"
        }
      ]
    },
    {
      "cell_type": "code",
      "metadata": {
        "id": "aXObAeYrMSIV",
        "colab": {
          "base_uri": "https://localhost:8080/",
          "height": 568
        },
        "outputId": "88e62a4e-6af3-4a85-b527-e413e4793da7"
      },
      "source": [
        "# Get labels for training data\n",
        "Y = Processed_data.target.values\n",
        "print(Y)\n",
        "# Get training data \n",
        "# print(X)\n",
        "X = Processed_data.drop(['target'], axis=1)\n",
        "print(X)\n",
        "# X = Processed_data.drop(['Column1'], axis=1)\n",
        "# print(X)"
      ],
      "execution_count": null,
      "outputs": [
        {
          "output_type": "stream",
          "text": [
            "['c' 'c' 'c' 'c' 'c' 'c' 'c' 'c' 'c' 'c' 'c' 'c' 'c' 'c' 'c' 'c' 'c' 'c'\n",
            " 'c' 'c' 'c' 'c' 'c' 'c' 'c' 'c' 'c' 'c' 'c' 'c' 'c' 'c' 'c' 'c' 'c' 'c'\n",
            " 'c' 'c' 'c' 'c' 'c' 'c' 'c' 'c' 'c' 'c' 'c' 'c' 'c' 'c' 'c' 'c' 'c' 'c'\n",
            " 'c' 'c' 'c' 'c' 'c' 'c' 'c' 'c' 'c' 'c' 'c' 'c' 'c' 'c' 'c' 'c' 'c' 'c'\n",
            " 'c' 'c' 'c' 'c' 'c' 'c' 'c' 'c' 'c' 'c' 'c' 'c' 'c' 'c' 'c' 'c' 'c' 'c'\n",
            " 'c' 'c' 'c' 'c' 'c' 'c' 'c' 'c' 'c' 'c' 'c' 'c' 'c' 'c' 'c' 'c' 'c' 'c'\n",
            " 'c' 'c' 'c' 'c' 'h' 'h' 'h' 'h' 'h' 'h' 'h' 'h' 'h' 'h' 'h' 'h' 'h' 'h'\n",
            " 'h' 'h' 'h' 'h' 'h' 'h' 'h' 'h' 'h' 'h' 'h' 'h' 'h' 'h' 'h' 'h' 'h' 'h'\n",
            " 'h' 'h' 'h' 'h' 'h' 'h' 'h' 'h' 'h' 'h' 'h' 'h' 'h' 'h' 'h' 'h' 'h' 'h'\n",
            " 'h' 'h' 'h' 'h' 'h' 'c' 'c' 'c' 'c' 'c' 'c' 'c' 'c' 'c' 'c' 'c' 'c' 'c'\n",
            " 'c' 'c' 'c' 'c' 'c' 'c' 'c' 'c' 'c' 'c' 'c' 'c' 'c' 'c' 'c' 'c' 'c' 'c'\n",
            " 'c' 'c' 'c' 'c' 'c' 'c' 'c' 'c' 'c' 'c' 'c' 'c' 'c' 'c' 'c' 'c' 'c' 'c'\n",
            " 'c' 'c' 'c' 'c' 'c' 'c' 'c' 'c' 'c' 'c' 'c' 'c' 'c' 'c' 'c' 'c' 'c' 'c'\n",
            " 'c' 'c' 'c' 'c' 'c' 'c' 'c' 'c' 'c' 'c' 'c' 'c' 'c' 'c' 'c' 'c' 'c' 'c'\n",
            " 'c' 'c' 'c' 'c' 'c' 'c' 'c' 'c' 'c' 'c' 'c' 'c' 'c' 'c' 'c' 'c' 'c' 'c'\n",
            " 'c' 'c' 'c' 'c' 'c' 'c' 'c' 'c' 'c' 'c' 'c' 'c' 'c' 'c' 'c']\n",
            "Column1             ENSG00000000003  ... ENSG00000273493\n",
            "3-Breast-Her2-ampl                0  ...               0\n",
            "8-Breast-WT                       0  ...               0\n",
            "10-Breast-Her2-ampl               0  ...               0\n",
            "Breast-100                        0  ...               0\n",
            "15-Breast-Her2-ampl              17  ...               0\n",
            "...                             ...  ...             ...\n",
            "MGH-NSCLC-L40-TR520               0  ...               0\n",
            "MGH-NSCLC-L51-TR521               0  ...               0\n",
            "MGH-NSCLC-L58-TR525               0  ...               0\n",
            "MGH-NSCLC-L59-TR522               0  ...               0\n",
            "MGH-NSCLC-L65-TR523               0  ...               0\n",
            "\n",
            "[285 rows x 57736 columns]\n"
          ],
          "name": "stdout"
        }
      ]
    },
    {
      "cell_type": "code",
      "metadata": {
        "id": "K9YXJ4lre5a7",
        "colab": {
          "base_uri": "https://localhost:8080/",
          "height": 550
        },
        "outputId": "d14a7882-474f-42ca-bb91-a86cc3d58dba"
      },
      "source": [
        "print(Y,X)"
      ],
      "execution_count": null,
      "outputs": [
        {
          "output_type": "stream",
          "text": [
            "['c' 'c' 'c' 'c' 'c' 'c' 'c' 'c' 'c' 'c' 'c' 'c' 'c' 'c' 'c' 'c' 'c' 'c'\n",
            " 'c' 'c' 'c' 'c' 'c' 'c' 'c' 'c' 'c' 'c' 'c' 'c' 'c' 'c' 'c' 'c' 'c' 'c'\n",
            " 'c' 'c' 'c' 'c' 'c' 'c' 'c' 'c' 'c' 'c' 'c' 'c' 'c' 'c' 'c' 'c' 'c' 'c'\n",
            " 'c' 'c' 'c' 'c' 'c' 'c' 'c' 'c' 'c' 'c' 'c' 'c' 'c' 'c' 'c' 'c' 'c' 'c'\n",
            " 'c' 'c' 'c' 'c' 'c' 'c' 'c' 'c' 'c' 'c' 'c' 'c' 'c' 'c' 'c' 'c' 'c' 'c'\n",
            " 'c' 'c' 'c' 'c' 'c' 'c' 'c' 'c' 'c' 'c' 'c' 'c' 'c' 'c' 'c' 'c' 'c' 'c'\n",
            " 'c' 'c' 'c' 'c' 'h' 'h' 'h' 'h' 'h' 'h' 'h' 'h' 'h' 'h' 'h' 'h' 'h' 'h'\n",
            " 'h' 'h' 'h' 'h' 'h' 'h' 'h' 'h' 'h' 'h' 'h' 'h' 'h' 'h' 'h' 'h' 'h' 'h'\n",
            " 'h' 'h' 'h' 'h' 'h' 'h' 'h' 'h' 'h' 'h' 'h' 'h' 'h' 'h' 'h' 'h' 'h' 'h'\n",
            " 'h' 'h' 'h' 'h' 'h' 'c' 'c' 'c' 'c' 'c' 'c' 'c' 'c' 'c' 'c' 'c' 'c' 'c'\n",
            " 'c' 'c' 'c' 'c' 'c' 'c' 'c' 'c' 'c' 'c' 'c' 'c' 'c' 'c' 'c' 'c' 'c' 'c'\n",
            " 'c' 'c' 'c' 'c' 'c' 'c' 'c' 'c' 'c' 'c' 'c' 'c' 'c' 'c' 'c' 'c' 'c' 'c'\n",
            " 'c' 'c' 'c' 'c' 'c' 'c' 'c' 'c' 'c' 'c' 'c' 'c' 'c' 'c' 'c' 'c' 'c' 'c'\n",
            " 'c' 'c' 'c' 'c' 'c' 'c' 'c' 'c' 'c' 'c' 'c' 'c' 'c' 'c' 'c' 'c' 'c' 'c'\n",
            " 'c' 'c' 'c' 'c' 'c' 'c' 'c' 'c' 'c' 'c' 'c' 'c' 'c' 'c' 'c' 'c' 'c' 'c'\n",
            " 'c' 'c' 'c' 'c' 'c' 'c' 'c' 'c' 'c' 'c' 'c' 'c' 'c' 'c' 'c'] Column1             ENSG00000000003  ... ENSG00000273493\n",
            "3-Breast-Her2-ampl                0  ...               0\n",
            "8-Breast-WT                       0  ...               0\n",
            "10-Breast-Her2-ampl               0  ...               0\n",
            "Breast-100                        0  ...               0\n",
            "15-Breast-Her2-ampl              17  ...               0\n",
            "...                             ...  ...             ...\n",
            "MGH-NSCLC-L40-TR520               0  ...               0\n",
            "MGH-NSCLC-L51-TR521               0  ...               0\n",
            "MGH-NSCLC-L58-TR525               0  ...               0\n",
            "MGH-NSCLC-L59-TR522               0  ...               0\n",
            "MGH-NSCLC-L65-TR523               0  ...               0\n",
            "\n",
            "[285 rows x 57736 columns]\n"
          ],
          "name": "stdout"
        }
      ]
    },
    {
      "cell_type": "code",
      "metadata": {
        "id": "hAOq2auCMaNp"
      },
      "source": [
        "# Split the data for cross-validation\n",
        "X_train, X_test, Y_train, Y_test = train_test_split(\n",
        "    X, Y, test_size=0.20, random_state=seed)"
      ],
      "execution_count": null,
      "outputs": []
    },
    {
      "cell_type": "code",
      "metadata": {
        "id": "LZceBc9-PeHt",
        "colab": {
          "base_uri": "https://localhost:8080/",
          "height": 35
        },
        "outputId": "52773658-d7a1-4ed3-9e3b-67d923ba35e5"
      },
      "source": [
        "# Determine shape of training data features for cross-validation\n",
        "X_train.shape"
      ],
      "execution_count": null,
      "outputs": [
        {
          "output_type": "execute_result",
          "data": {
            "text/plain": [
              "(228, 57736)"
            ]
          },
          "metadata": {
            "tags": []
          },
          "execution_count": 22
        }
      ]
    },
    {
      "cell_type": "code",
      "metadata": {
        "id": "Pi1ye2zNPiwO",
        "colab": {
          "base_uri": "https://localhost:8080/",
          "height": 35
        },
        "outputId": "4035606a-13f9-41fa-b9d0-e3beaa47c890"
      },
      "source": [
        "# Determine shape of training data target for cross-validation\n",
        "Y_train.shape"
      ],
      "execution_count": null,
      "outputs": [
        {
          "output_type": "execute_result",
          "data": {
            "text/plain": [
              "(228,)"
            ]
          },
          "metadata": {
            "tags": []
          },
          "execution_count": 23
        }
      ]
    },
    {
      "cell_type": "code",
      "metadata": {
        "id": "ib1mf3-rPnR4"
      },
      "source": [
        "# Set parameters for the Random Forest Model\n",
        "kfold = KFold(n_splits=10, shuffle=True, random_state=seed)\n",
        "enc = preprocessing.MultiLabelBinarizer()\n",
        "Y_one_hot = enc.fit_transform(Y_train)"
      ],
      "execution_count": null,
      "outputs": []
    },
    {
      "cell_type": "code",
      "metadata": {
        "id": "TFNW7kXIPtwu"
      },
      "source": [
        "# # Perform cross validation and pull AUC for various splits\n",
        "auc = []\n",
        "for n in [100, 1000, 2000]:\n",
        "     est = RandomForestClassifier(n_estimators=n, max_features=8,n_jobs=-1, \n",
        "                                  oob_score=True)\n",
        "     probs = cross_val_predict(est, X_train, Y_train, cv=kfold, method='predict_proba')\n",
        "     temp_auc = []\n",
        "     for j in range(Y_one_hot.shape[1]):\n",
        "         temp_auc.append(metrics.roc_auc_score(Y_one_hot[:, j], probs[:, j]))\n",
        "     auc.append(temp_auc)\n",
        "     print('Test AUC for {0} trees: '.format(n), temp_auc)\n",
        "     print('--------------------------------------------------')"
      ],
      "execution_count": null,
      "outputs": []
    },
    {
      "cell_type": "code",
      "metadata": {
        "id": "1ULhDhQTP335"
      },
      "source": [
        "# Set parameters for the estimator\n",
        "estimator = RandomForestClassifier(n_estimators=2000, max_features='auto',\n",
        "                                   n_jobs=-1, oob_score=True)"
      ],
      "execution_count": null,
      "outputs": []
    },
    {
      "cell_type": "code",
      "metadata": {
        "id": "DtB1F4GCP9V0"
      },
      "source": [
        "# Perform cross validation\n",
        "probabilities = cross_val_predict(estimator, X_train, Y_train, cv=kfold, method='predict_proba')"
      ],
      "execution_count": null,
      "outputs": []
    },
    {
      "cell_type": "code",
      "metadata": {
        "id": "6B740AZZQBZY"
      },
      "source": [
        "# Save the probabilities in /data folder\n",
        "#np.save('../data/random_forest/1000estimators.npy', probabilities)"
      ],
      "execution_count": null,
      "outputs": []
    },
    {
      "cell_type": "markdown",
      "metadata": {
        "id": "ycpF2Bn5ldGi"
      },
      "source": [
        ""
      ]
    },
    {
      "cell_type": "code",
      "metadata": {
        "id": "heKxpHMZQFXo"
      },
      "source": [
        "# print accuracy report\n",
        "#print_accuracy_and_classification_report(Y_one_hot, predict_classes(probabilities))"
      ],
      "execution_count": null,
      "outputs": []
    },
    {
      "cell_type": "code",
      "metadata": {
        "id": "UljWhlRFQHlC",
        "colab": {
          "base_uri": "https://localhost:8080/",
          "height": 295
        },
        "outputId": "4f86e31e-4083-46d9-a330-cb66dcec4979"
      },
      "source": [
        "# Plot ROC for Random Forest Model\n",
        "class_lookup = {0: 'Cancer', 1: 'Healthy'}\n",
        "fig, ax = plt.subplots()\n",
        "create_roc_curve(Y_one_hot, probabilities, class_lookup, 'Two Class Random'\n",
        "                 ' Forest Classifier ROC/AUC on train set', ax)"
      ],
      "execution_count": null,
      "outputs": [
        {
          "output_type": "display_data",
          "data": {
            "image/png": "[encoded data removed]",
            "text/plain": [
              "<Figure size 432x288 with 1 Axes>"
            ]
          },
          "metadata": {
            "tags": []
          }
        }
      ]
    },
    {
      "cell_type": "markdown",
      "metadata": {
        "id": "b-zWpiNVX86V"
      },
      "source": [
        "## Feature Importance Analysis"
      ]
    },
    {
      "cell_type": "code",
      "metadata": {
        "id": "Cg7jtMxymasa"
      },
      "source": [
        "# Rebuild random forest model\n",
        "forest = estimator.fit(X_train, Y_train)"
      ],
      "execution_count": null,
      "outputs": []
    },
    {
      "cell_type": "code",
      "metadata": {
        "id": "1rSaIt-a-CXo",
        "colab": {
          "base_uri": "https://localhost:8080/",
          "height": 256
        },
        "outputId": "81adb218-1cdd-4a81-d644-43370178a480"
      },
      "source": [
        "print(forest.feature_importances_)\n",
        "print(type(forest.feature_importances_))\n",
        "print(X_train.columns)\n",
        "importances = forest.feature_importances_\n",
        "cols = X_train.columns"
      ],
      "execution_count": null,
      "outputs": [
        {
          "output_type": "stream",
          "text": [
            "[0.00000000e+00 0.00000000e+00 4.07060084e-05 ... 0.00000000e+00\n",
            " 0.00000000e+00 0.00000000e+00]\n",
            "<class 'numpy.ndarray'>\n",
            "Index(['ENSG00000000003', 'ENSG00000000005', 'ENSG00000000419',\n",
            "       'ENSG00000000457', 'ENSG00000000460', 'ENSG00000000938',\n",
            "       'ENSG00000000971', 'ENSG00000001036', 'ENSG00000001084',\n",
            "       'ENSG00000001167',\n",
            "       ...\n",
            "       'ENSG00000273481', 'ENSG00000273483', 'ENSG00000273484',\n",
            "       'ENSG00000273485', 'ENSG00000273486', 'ENSG00000273487',\n",
            "       'ENSG00000273488', 'ENSG00000273489', 'ENSG00000273492',\n",
            "       'ENSG00000273493'],\n",
            "      dtype='object', name='Column1', length=57736)\n"
          ],
          "name": "stdout"
        }
      ]
    },
    {
      "cell_type": "code",
      "metadata": {
        "id": "dbkFzxvydXAv"
      },
      "source": [
        "def sum_features(feature_import, label):\n",
        "    starts_with_label = feature_import.feature.str.startswith(label)\n",
        "    return feature_import.importance[starts_with_label].sum()"
      ],
      "execution_count": null,
      "outputs": []
    },
    {
      "cell_type": "code",
      "metadata": {
        "id": "6GQg0OtIdaqp"
      },
      "source": [
        " # Create function to determine the feature importance \n",
        "def create_feature_importance_plot(forest):\n",
        "  feature_import = pd.DataFrame([Processed_data.drop(['target'], axis=1).columns.values,forest.feature_importances_]).T\n",
        "  feature_import.columns = ['feature', 'importance']\n",
        "    #summed_importances = []\n",
        "    #for label in ['disease', 'reviewer']:\n",
        "     #   summed_importances.append([label, sum_features(feature_import, label)])\n",
        "    #summed_importances = pd.DataFrame(summed_importances, columns=['feature','importance'])\n",
        "    #feature_import.to_pickle(save_fp)\n",
        "#     print(feature_import ['feature'])\n",
        "#     for i in feature_import ['feature']:\n",
        "#         print(i)\n",
        "  feature_import.sort_values('importance', ascending=False, inplace=True)\n",
        "  sns.barplot(y='feature', x='importance', data=feature_import.head(18), color='darkorange')\n",
        "  plt.xlabel('Feature importance')\n",
        "  plt.ylabel('Feature')\n",
        "  plt.title('Random Forest Feature Importance')"
      ],
      "execution_count": null,
      "outputs": []
    },
    {
      "cell_type": "code",
      "metadata": {
        "id": "ZwfX8ls5FZPl",
        "colab": {
          "base_uri": "https://localhost:8080/",
          "height": 295
        },
        "outputId": "eac87f67-2507-4b78-93e4-4bede7f60c29"
      },
      "source": [
        "# Plot feature importance graph\n",
        "create_feature_importance_plot(forest)"
      ],
      "execution_count": null,
      "outputs": [
        {
          "output_type": "display_data",
          "data": {
            "image/png": "[encoded data removed]",
            "text/plain": [
              "<Figure size 432x288 with 1 Axes>"
            ]
          },
          "metadata": {
            "tags": []
          }
        }
      ]
    },
    {
      "cell_type": "markdown",
      "metadata": {
        "id": "7LOP5Iy-lLkM"
      },
      "source": [
        "## Test set performance"
      ]
    },
    {
      "cell_type": "code",
      "metadata": {
        "id": "HBx14D5rT8bE"
      },
      "source": [
        "#Get probabilites for hold out test set\n",
        "forest = estimator.fit(X_train, Y_train)\n",
        "test_prob = forest.predict_proba(X_test)"
      ],
      "execution_count": null,
      "outputs": []
    },
    {
      "cell_type": "code",
      "metadata": {
        "id": "Hb-MZzchUF9r"
      },
      "source": [
        "# Add labels\n",
        "Y_test_labels = enc.fit_transform(Y_test)"
      ],
      "execution_count": null,
      "outputs": []
    },
    {
      "cell_type": "code",
      "metadata": {
        "id": "S8s9m7EoUHeM",
        "colab": {
          "base_uri": "https://localhost:8080/",
          "height": 295
        },
        "outputId": "9f45300f-1396-48c7-9918-5b64a631ad56"
      },
      "source": [
        "# PLot test set ROC\n",
        "fig, ax = plt.subplots()\n",
        "create_roc_curve(Y_test_labels, test_prob, class_lookup, 'Two Class Random'\n",
        "                 ' Forest Classifier ROC/AUC on test set', ax)"
      ],
      "execution_count": null,
      "outputs": [
        {
          "output_type": "display_data",
          "data": {
            "image/png": "[encoded data removed]",
            "text/plain": [
              "<Figure size 432x288 with 1 Axes>"
            ]
          },
          "metadata": {
            "tags": []
          }
        }
      ]
    },
    {
      "cell_type": "markdown",
      "metadata": {
        "id": "Hdg4AsL7lPx_"
      },
      "source": [
        "## Confusion Matrix"
      ]
    },
    {
      "cell_type": "code",
      "metadata": {
        "id": "gk16FXC4LIjK",
        "colab": {
          "base_uri": "https://localhost:8080/",
          "height": 201
        },
        "outputId": "110d6aa2-176a-444c-dedf-f6b72407b5bb"
      },
      "source": [
        "from sklearn.metrics import plot_confusion_matrix\n",
        "from sklearn.metrics import confusion_matrix, plot_confusion_matrix\n",
        "Y_pred = forest.predict(X_test)\n",
        "print(\"Y_test: \", Y_test)\n",
        "print(\"Y_pred: \", Y_pred)\n",
        "conf_mat = confusion_matrix(Y_test, Y_pred , normalize='true')\n",
        "print(conf_mat)\n",
        "# disp = plot_confusion_matrix(classifier, X_test, y_test,\n",
        "# display_labels=class_names, cmap=plt.cm.Blues, normalize='true')"
      ],
      "execution_count": null,
      "outputs": [
        {
          "output_type": "stream",
          "text": [
            "Y_test:  ['c' 'h' 'h' 'c' 'c' 'h' 'h' 'c' 'c' 'h' 'h' 'h' 'c' 'c' 'c' 'c' 'c' 'c'\n",
            " 'c' 'c' 'c' 'c' 'c' 'c' 'c' 'c' 'c' 'c' 'c' 'c' 'c' 'h' 'c' 'h' 'c' 'c'\n",
            " 'c' 'h' 'c' 'c' 'c' 'c' 'h' 'c' 'c' 'c' 'c' 'c' 'c' 'c' 'c' 'c' 'c' 'c'\n",
            " 'c' 'h' 'c']\n",
            "Y_pred:  ['c' 'h' 'h' 'c' 'c' 'h' 'h' 'c' 'c' 'h' 'c' 'h' 'c' 'c' 'c' 'c' 'c' 'c'\n",
            " 'c' 'c' 'c' 'c' 'c' 'c' 'c' 'c' 'c' 'c' 'c' 'c' 'c' 'h' 'c' 'h' 'c' 'c'\n",
            " 'c' 'h' 'c' 'c' 'c' 'c' 'c' 'c' 'c' 'h' 'c' 'c' 'c' 'c' 'c' 'c' 'c' 'c'\n",
            " 'c' 'c' 'c']\n",
            "[[0.97777778 0.02222222]\n",
            " [0.25       0.75      ]]\n"
          ],
          "name": "stdout"
        }
      ]
    },
    {
      "cell_type": "code",
      "metadata": {
        "id": "Y4j4BKjydsjw",
        "colab": {
          "base_uri": "https://localhost:8080/",
          "height": 279
        },
        "outputId": "78c65cd9-465d-490d-a7de-b662efe57d40"
      },
      "source": [
        "import pandas as pd\n",
        "import seaborn as sn\n",
        "import matplotlib.pyplot as plt\n",
        "\n",
        "data = {'y_Actual':    Y_test,\n",
        "        'y_Predicted': Y_pred\n",
        "        }\n",
        "\n",
        "df = pd.DataFrame(data, columns=['y_Actual','y_Predicted'])\n",
        "confusion_matrix = pd.crosstab(df['y_Actual'], df['y_Predicted'], rownames=['Actual'], colnames=['Predicted'])\n",
        "\n",
        "sn.heatmap(confusion_matrix, annot=True)\n",
        "plt.show()"
      ],
      "execution_count": null,
      "outputs": [
        {
          "output_type": "display_data",
          "data": {
            "image/png": "[encoded data removed]",
            "text/plain": [
              "<Figure size 432x288 with 2 Axes>"
            ]
          },
          "metadata": {
            "tags": []
          }
        }
      ]
    },
    {
      "cell_type": "markdown",
      "metadata": {
        "id": "5b7CdgV3IUrg"
      },
      "source": [
        ""
      ]
    },
    {
      "cell_type": "markdown",
      "metadata": {
        "id": "T4ifAm5iIUuY"
      },
      "source": [
        ""
      ]
    },
    {
      "cell_type": "markdown",
      "metadata": {
        "id": "VwrbpST2IUxQ"
      },
      "source": [
        ""
      ]
    },
    {
      "cell_type": "markdown",
      "metadata": {
        "id": "FeHsqXFGIUzu"
      },
      "source": [
        ""
      ]
    },
    {
      "cell_type": "markdown",
      "metadata": {
        "id": "S0t8X3tBIU2X"
      },
      "source": [
        ""
      ]
    },
    {
      "cell_type": "markdown",
      "metadata": {
        "id": "lRVoRqpxIU4_"
      },
      "source": [
        ""
      ]
    },
    {
      "cell_type": "markdown",
      "metadata": {
        "id": "dZIrLGlZIU7o"
      },
      "source": [
        ""
      ]
    },
    {
      "cell_type": "markdown",
      "metadata": {
        "id": "IUyil714IU-c"
      },
      "source": [
        ""
      ]
    },
    {
      "cell_type": "markdown",
      "metadata": {
        "id": "Jrg4PGHfIVBa"
      },
      "source": [
        "## Multi-Class Setting"
      ]
    },
    {
      "cell_type": "code",
      "metadata": {
        "id": "25sooGZl3WAK"
      },
      "source": [
        "#df['Patient type']=0"
      ],
      "execution_count": null,
      "outputs": []
    },
    {
      "cell_type": "code",
      "metadata": {
        "id": "0zE997YTyNOU",
        "colab": {
          "base_uri": "https://localhost:8080/",
          "height": 55
        },
        "outputId": "f57ba72d-2166-4007-af32-0523bdbc43ef"
      },
      "source": [
        "\"\"\" i=0                                           \n",
        "for y in x:\n",
        "  if (y.find('HD') != -1):\n",
        "    df['list'].iloc[i]='Healthy Donor (HD)'\n",
        "  #i=i+1\n",
        "  elif (y.find('liver') != -1):\n",
        "    df['list'].iloc[i]='Hepatobiliary carcinoma (HBC)'\n",
        "  #i=i+1\n",
        "  elif (y.find('Platelet-hiseq') != -1):\n",
        "    df['list'].iloc[i]='HC'\n",
        "  elif (y.find('Breast') != -1):\n",
        "    df['list'].iloc[i]='Breast carcinoma (BrCa)'\n",
        "  #i=i+1\n",
        "  elif (y.find('Chol') != -1):\n",
        "    df['list'].iloc[i]='Hepatobiliary carcinoma (HBC)'\n",
        "  #i=i+1\n",
        "  elif (y.find('CRC') != -1):\n",
        "    df['list'].iloc[i]='Colorectal cancer (CRC)'\n",
        "  #i=i+1\n",
        "  elif (y.find('GBM') != -1):\n",
        "    df['list'].iloc[i]='Glioblastoma (GBM)'\n",
        "  #i=i+1\n",
        "  elif (y.find('Pancr') != -1):\n",
        "    df['list'].iloc[i]='Pancreatic Adenocarcinoma (PAAD)'\n",
        "  #i=i+1\n",
        "  elif (y.find('Panc') != -1):\n",
        "    df['list'].iloc[i]='Pancreatic Adenocarcinoma (PAAD)'\n",
        "  elif (y.find('Lung') != -1):\n",
        "    df['list'].iloc[i]='Non-small cell lung cancer (NSCLC)'\n",
        "  #i=i+1\n",
        "  elif (y.find('BrCa') != -1):\n",
        "    df['list'].iloc[i]='Breast carcinoma (BrCa)'\n",
        "  #i=i+1\n",
        "  elif (y.find('Control') != -1):\n",
        "    df['list'].iloc[i]='Healthy Donor (HD)'\n",
        "  elif (y.find('NSCLC') != -1):\n",
        "    df['list'].iloc[i]='Non-small cell lung cancer (NSCLC)'\n",
        "  elif (y.find('Unknown') != -1):\n",
        "    df['list'].iloc[i]='Hepatobiliary carcinoma (HBC)'\n",
        "  else:\n",
        "    df['list'].iloc[i]='Hepatobiliary carcinoma (HBC)'\n",
        "  i=i+1\n",
        "  \"\"\""
      ],
      "execution_count": null,
      "outputs": [
        {
          "output_type": "execute_result",
          "data": {
            "text/plain": [
              "\" i=0                                           \\nfor y in x:\\n  if (y.find('HD') != -1):\\n    df['list'].iloc[i]='Healthy Donor (HD)'\\n  #i=i+1\\n  elif (y.find('liver') != -1):\\n    df['list'].iloc[i]='Hepatobiliary carcinoma (HBC)'\\n  #i=i+1\\n  elif (y.find('Platelet-hiseq') != -1):\\n    df['list'].iloc[i]='HC'\\n  elif (y.find('Breast') != -1):\\n    df['list'].iloc[i]='Breast carcinoma (BrCa)'\\n  #i=i+1\\n  elif (y.find('Chol') != -1):\\n    df['list'].iloc[i]='Hepatobiliary carcinoma (HBC)'\\n  #i=i+1\\n  elif (y.find('CRC') != -1):\\n    df['list'].iloc[i]='Colorectal cancer (CRC)'\\n  #i=i+1\\n  elif (y.find('GBM') != -1):\\n    df['list'].iloc[i]='Glioblastoma (GBM)'\\n  #i=i+1\\n  elif (y.find('Pancr') != -1):\\n    df['list'].iloc[i]='Pancreatic Adenocarcinoma (PAAD)'\\n  #i=i+1\\n  elif (y.find('Panc') != -1):\\n    df['list'].iloc[i]='Pancreatic Adenocarcinoma (PAAD)'\\n  elif (y.find('Lung') != -1):\\n    df['list'].iloc[i]='Non-small cell lung cancer (NSCLC)'\\n  #i=i+1\\n  elif (y.find('BrCa') != -1):\\n    df['list'].iloc[i]='Breast carcinoma (BrCa)'\\n  #i=i+1\\n  elif (y.find('Control') != -1):\\n    df['list'].iloc[i]='Healthy Donor (HD)'\\n  elif (y.find('NSCLC') != -1):\\n    df['list'].iloc[i]='Non-small cell lung cancer (NSCLC)'\\n  elif (y.find('Unknown') != -1):\\n    df['list'].iloc[i]='Hepatobiliary carcinoma (HBC)'\\n  else:\\n    df['list'].iloc[i]='Hepatobiliary carcinoma (HBC)'\\n  i=i+1\\n  \""
            ]
          },
          "metadata": {
            "tags": []
          },
          "execution_count": 42
        }
      ]
    },
    {
      "cell_type": "code",
      "metadata": {
        "id": "VLY_-hrO5ab-"
      },
      "source": [
        "\"\"\" df['list'] # non-small cell lung cancer, \n",
        "           #colorectal cancer, \n",
        "           #pancreatic cancer, \n",
        "           #glioblastoma, \n",
        "           #breast cancer and \n",
        "           #hepatobiliary carcinomas\n",
        "df.list.value_counts()"
      ],
      "execution_count": null,
      "outputs": []
    },
    {
      "cell_type": "markdown",
      "metadata": {
        "id": "hEDxM5NMQZTy"
      },
      "source": [
        "## Trying K-means Clustering"
      ]
    },
    {
      "cell_type": "code",
      "metadata": {
        "id": "go3qMKXkCxiP"
      },
      "source": [
        "\"\"\"\n",
        "from sklearn.cluster import KMeans\n",
        "# defining the kmeans function with initialization as k-means++\n",
        "kmeans = KMeans(n_clusters=2, init='k-means++')\n",
        "\n",
        "# fitting the k means algorithm on scaled data\n",
        "kmeans.fit(df)\n",
        "kmeans = KMeans(n_jobs = -1, n_clusters = 5, init='k-means++')\n",
        "kmeans.fit(data_scaled)\n",
        "pred = kmeans.predict(data_scaled)\n",
        "frame = pd.DataFrame(data_scaled)\n",
        "frame['cluster'] = pred\n",
        "frame['cluster'].value_counts()\"\"\""
      ],
      "execution_count": null,
      "outputs": []
    }
  ]
}